{
 "cells": [
  {
   "cell_type": "markdown",
   "metadata": {},
   "source": [
    "# Does removing ChemicalEnvironments speed up sampling\n",
    "\n",
    "This ipython notebook is being used to determine if removing the list of chemicalenvironments would significantly increase the speed of smirky"
   ]
  },
  {
   "cell_type": "code",
   "execution_count": 2,
   "metadata": {
    "collapsed": true
   },
   "outputs": [],
   "source": [
    "from openforcefield.typing.chemistry.environment import TorsionChemicalEnvironment\n",
    "import time\n",
    "import copy\n",
    "import numpy as np\n",
    "from numpy import random\n",
    "from smarty.atomtyper import AtomTyper"
   ]
  },
  {
   "cell_type": "code",
   "execution_count": 3,
   "metadata": {
    "collapsed": true
   },
   "outputs": [],
   "source": [
    "def smirks_sampling(smirks, iterations):\n",
    "    \"\"\"\n",
    "    This method takes in a list of smirks strings, then randomly picks one\n",
    "    creates a chemical environment and writes back out the smirks string\n",
    "    \n",
    "    It only stores the smirks strings and only sometimes keeps the \"new one\" \n",
    "    the new one is just a copy of the randomly chosen current one\n",
    "    \"\"\"\n",
    "    current = copy.deepcopy(smirks)\n",
    "    for i in range(iterations):\n",
    "        change = random.choice(current)\n",
    "        \n",
    "        env = TorsionChemicalEnvironment(smirks = change)\n",
    "        new_smirks = env.asSMIRKS()\n",
    "        \n",
    "        # assume we accept a move 30% of the time and extend the list\n",
    "        if random.rand() < 0.3: \n",
    "            current.append(new_smirks)\n",
    "\n",
    "    return current\n",
    "\n",
    "def environment_sampling(smirks, iterations):\n",
    "    \"\"\"\n",
    "    This method taks in a list of smirks, turns them into chemical environments\n",
    "    and then iterates where some percentage of the time you keep the new environment\n",
    "    \"\"\"\n",
    "    current = [TorsionChemicalEnvironment(smirks = c) for c in smirks]\n",
    "    \n",
    "    for i in range(iterations):\n",
    "        change = copy.deepcopy(random.choice(current))\n",
    "        new_smirks = change.asSMIRKS\n",
    "        \n",
    "        # keep the new one 30% of the time\n",
    "        if random.rand() < 0.3:\n",
    "            current.append(change)\n",
    "            \n",
    "    return [e.asSMIRKS for e in current]\n",
    "\n",
    "def run_samplings(smirks, iterations):\n",
    "    \"\"\"\n",
    "    This method runs smirks_sampling and environment sampling and returns the time for each using \n",
    "    the same input list and number of iterations\n",
    "    \"\"\"\n",
    "    \n",
    "    # smirks first \n",
    "    init_time = time.time()\n",
    "    smirks = smirks_sampling(smirks, iterations)\n",
    "    end_time = time.time()\n",
    "    smirks_time = (end_time - init_time) / 60.0\n",
    "    \n",
    "    # environments\n",
    "    init_time = time.time()\n",
    "    env_smirks = environment_sampling(smirks, iterations)\n",
    "    end_time = time.time()\n",
    "    env_time = (end_time - init_time) / 60.0\n",
    "    \n",
    "    return smirks_time, env_time"
   ]
  },
  {
   "cell_type": "code",
   "execution_count": 6,
   "metadata": {},
   "outputs": [
    {
     "name": "stdout",
     "output_type": "stream",
     "text": [
      "------------------------------  2 Iterations  ------------------------------\n",
      "               short\t1.97e-05\t6.54e-05\t4.57e-05\n",
      "                long\t1.93e-05\t4.58e-04\t4.39e-04\n",
      "             generic\t1.34e-05\t1.82e-05\t4.84e-06\n",
      "\n",
      "\n",
      "------------------------------  10 Iterations  ------------------------------\n",
      "               short\t7.12e-05\t1.16e-04\t4.53e-05\n",
      "                long\t8.27e-05\t5.40e-04\t4.58e-04\n",
      "             generic\t6.60e-05\t6.47e-05\t-1.23e-06\n",
      "\n",
      "\n",
      "------------------------------  100 Iterations  ------------------------------\n",
      "               short\t6.19e-04\t7.01e-04\t8.20e-05\n",
      "                long\t7.44e-04\t1.36e-03\t6.12e-04\n",
      "             generic\t5.49e-04\t6.28e-04\t7.92e-05\n",
      "\n",
      "\n",
      "------------------------------  1000 Iterations  ------------------------------\n",
      "               short\t7.59e-03\t1.73e-02\t9.76e-03\n",
      "                long\t8.42e-03\t2.10e-02\t1.26e-02\n",
      "             generic\t6.89e-03\t1.61e-02\t9.20e-03\n",
      "\n",
      "\n",
      "------------------------------  10000 Iterations  ------------------------------\n",
      "               short\t8.89e-02\t1.09e+00\t9.98e-01\n",
      "                long\t9.37e-02\t1.17e+00\t1.08e+00\n",
      "             generic\t7.18e-02\t1.12e+00\t1.05e+00\n",
      "\n",
      "\n",
      "------------------------------  30000 Iterations  ------------------------------\n",
      "               short\t3.61e-01\t1.04e+01\t1.00e+01\n",
      "                long\t4.51e-01\t1.08e+01\t1.04e+01\n",
      "             generic\t3.13e-01\t1.01e+01\t9.76e+00\n",
      "\n",
      "\n"
     ]
    }
   ],
   "source": [
    "long = AtomTyper.read_typelist('Torsion_0_0.00e+00_results.smarts')\n",
    "long = [smirks for (smirks,name) in long if not '$' in smirks]\n",
    "smirks_lists = {\n",
    "    'generic':['[*:1]~[*:2]~[*:3]~[*:4]'],\n",
    "    'short':copy.deepcopy(long[:10]),\n",
    "    'long':copy.deepcopy(long)}\n",
    "\n",
    "iterations = [2, 10, 100, 1000, 10000, 30000]\n",
    "\n",
    "for its in iterations:\n",
    "    print('%s  %i Iterations  %s' % ('-'*30, its, '-'*30))\n",
    "    for title, smirks in smirks_lists.items():\n",
    "        smirks_time, env_time = run_samplings(smirks, its)\n",
    "        dif = env_time - smirks_time\n",
    "        print(\"%20s\\t%.2e\\t%.2e\\t%.2e\" % (title, smirks_time, env_time,dif))\n",
    "    print('\\n')"
   ]
  },
  {
   "cell_type": "code",
   "execution_count": null,
   "metadata": {
    "collapsed": true
   },
   "outputs": [],
   "source": []
  }
 ],
 "metadata": {
  "kernelspec": {
   "display_name": "Python 3",
   "language": "python",
   "name": "python3"
  },
  "language_info": {
   "codemirror_mode": {
    "name": "ipython",
    "version": 3
   },
   "file_extension": ".py",
   "mimetype": "text/x-python",
   "name": "python",
   "nbconvert_exporter": "python",
   "pygments_lexer": "ipython3",
   "version": "3.5.3"
  }
 },
 "nbformat": 4,
 "nbformat_minor": 2
}
